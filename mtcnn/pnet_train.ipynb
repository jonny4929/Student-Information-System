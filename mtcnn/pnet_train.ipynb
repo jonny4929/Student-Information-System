{
 "nbformat": 4,
 "nbformat_minor": 2,
 "metadata": {
  "language_info": {
   "name": "python",
   "codemirror_mode": {
    "name": "ipython",
    "version": 3
   },
   "version": "3.7.6-final"
  },
  "orig_nbformat": 2,
  "file_extension": ".py",
  "mimetype": "text/x-python",
  "name": "python",
  "npconvert_exporter": "python",
  "pygments_lexer": "ipython3",
  "version": 3,
  "kernelspec": {
   "name": "python37064bitpytconda312c42a98d354b72bd58f4120c375f46",
   "display_name": "Python 3.7.0 64-bit ('pyt': conda)"
  }
 },
 "cells": [
  {
   "cell_type": "code",
   "execution_count": 1,
   "metadata": {},
   "outputs": [],
   "source": [
    "import torch\n",
    "from torch.utils import data\n",
    "import numpy\n",
    "import pandas\n",
    "import cv2\n",
    "import torchvision.transforms as transforms\n",
    "from datasets import datasets\n",
    "import torch.nn as nn\n",
    "torch.set_default_tensor_type(torch.FloatTensor)"
   ]
  },
  {
   "cell_type": "code",
   "execution_count": 6,
   "metadata": {},
   "outputs": [],
   "source": [
    "datas=datasets.Pnet_dataset()\n",
    "loader=data.DataLoader(datas,batch_size=1,shuffle=False,num_workers=1)"
   ]
  },
  {
   "cell_type": "code",
   "execution_count": 7,
   "metadata": {},
   "outputs": [],
   "source": [
    "from model.PNet import PNet\n",
    "net=PNet()\n",
    "device=torch.device('cuda:0')\n",
    "net.load_state_dict(torch.load('./pretrained_model/new_PNet6.pth'))\n",
    "net=net.to(device)"
   ]
  },
  {
   "cell_type": "code",
   "execution_count": 5,
   "metadata": {},
   "outputs": [],
   "source": [
    "for m in net.modules():\n",
    "    if isinstance(m,nn.Conv2d):\n",
    "        nn.init.normal_(m.weight)\n",
    "        nn.init.xavier_normal_(m.weight)\n",
    "        nn.init.kaiming_normal_(m.weight)\n",
    "        nn.init.constant_(m.bias,0)\n",
    "    elif isinstance(m,nn.Linear):\n",
    "        nn.init.normal_(m.weight)"
   ]
  },
  {
   "cell_type": "code",
   "execution_count": 10,
   "metadata": {},
   "outputs": [],
   "source": [
    "import torch.optim as optim\n",
    "criterion1=nn.CrossEntropyLoss()\n",
    "criterion2=nn.MSELoss()\n",
    "optimizer=optim.Adam(net.parameters(),lr=0.000001,betas=(0.9,0.99))"
   ]
  },
  {
   "cell_type": "code",
   "execution_count": 14,
   "metadata": {
    "tags": [
     "outputPrepend",
     "outputPrepend",
     "outputPrepend",
     "outputPrepend",
     "outputPrepend",
     "outputPrepend",
     "outputPrepend",
     "outputPrepend",
     "outputPrepend",
     "outputPrepend",
     "outputPrepend",
     "outputPrepend",
     "outputPrepend",
     "outputPrepend",
     "outputPrepend",
     "outputPrepend",
     "outputPrepend",
     "outputPrepend",
     "outputPrepend",
     "outputPrepend",
     "outputPrepend",
     "outputPrepend",
     "outputPrepend",
     "outputPrepend",
     "outputPrepend",
     "outputPrepend",
     "outputPrepend",
     "outputPrepend",
     "outputPrepend",
     "outputPrepend",
     "outputPrepend",
     "outputPrepend",
     "outputPrepend",
     "outputPrepend",
     "outputPrepend",
     "outputPrepend",
     "outputPrepend",
     "outputPrepend",
     "outputPrepend",
     "outputPrepend",
     "outputPrepend",
     "outputPrepend",
     "outputPrepend",
     "outputPrepend",
     "outputPrepend",
     "outputPrepend",
     "outputPrepend",
     "outputPrepend",
     "outputPrepend",
     "outputPrepend",
     "outputPrepend",
     "outputPrepend",
     "outputPrepend",
     "outputPrepend",
     "outputPrepend",
     "outputPrepend",
     "outputPrepend",
     "outputPrepend",
     "outputPrepend",
     "outputPrepend",
     "outputPrepend",
     "outputPrepend",
     "outputPrepend",
     "outputPrepend",
     "outputPrepend",
     "outputPrepend",
     "outputPrepend",
     "outputPrepend",
     "outputPrepend",
     "outputPrepend",
     "outputPrepend",
     "outputPrepend",
     "outputPrepend",
     "outputPrepend",
     "outputPrepend",
     "outputPrepend",
     "outputPrepend",
     "outputPrepend",
     "outputPrepend",
     "outputPrepend"
    ]
   },
   "outputs": [
    {
     "output_type": "stream",
     "name": "stdout",
     "text": "[1, 2000] loss:0.025\n[1, 4000] loss:0.036\n[1, 6000] loss:0.028\n[1, 8000] loss:0.029\n[1,10000] loss:0.042\n[1,12000] loss:0.028\n[1,14000] loss:0.025\n[1,16000] loss:0.032\n[1,18000] loss:0.019\n[1,20000] loss:0.026\n[1,22000] loss:0.024\n[1,24000] loss:0.033\n[1,26000] loss:0.024\n[1,28000] loss:0.026\n[1,30000] loss:0.026\n[1,32000] loss:0.031\n[1,34000] loss:0.025\n[1,36000] loss:0.026\n[1,38000] loss:0.029\n[1,40000] loss:0.025\n[1,42000] loss:0.023\n[1,44000] loss:0.036\n[1,46000] loss:0.031\n[1,48000] loss:0.026\n[1,50000] loss:0.023\n[1,52000] loss:0.024\n[1,54000] loss:0.043\n[1,56000] loss:0.039\n[1,58000] loss:0.025\n[1,60000] loss:0.022\n[1,62000] loss:0.025\n[1,64000] loss:0.021\n[1,66000] loss:0.037\n[1,68000] loss:0.034\n[1,70000] loss:0.020\n[1,72000] loss:0.029\n[1,74000] loss:0.027\n[1,76000] loss:0.028\n[1,78000] loss:0.031\n[1,80000] loss:0.016\n[1,82000] loss:0.028\n[1,84000] loss:0.033\n[1,86000] loss:0.026\n[1,88000] loss:0.034\n[1,90000] loss:0.039\n[1,92000] loss:0.022\n[1,94000] loss:0.035\n[1,96000] loss:0.023\n[1,98000] loss:0.037\n[1,100000] loss:0.029\n[1,102000] loss:0.030\n[1,104000] loss:0.034\n[1,106000] loss:0.026\n[1,108000] loss:0.027\n[1,110000] loss:0.033\n[1,112000] loss:0.025\n[1,114000] loss:0.023\n[1,116000] loss:0.037\n[1,118000] loss:0.026\n[1,120000] loss:0.026\n[1,122000] loss:0.028\n[1,124000] loss:0.026\n[1,126000] loss:0.035\n[1,128000] loss:0.027\n[1,130000] loss:0.028\n[1,132000] loss:0.035\n[1,134000] loss:0.020\n[1,136000] loss:0.036\n[1,138000] loss:0.024\n[1,140000] loss:0.029\n[1,142000] loss:0.040\n[1,144000] loss:0.031\n[1,146000] loss:0.025\n[1,148000] loss:0.029\n[1,150000] loss:0.028\n[1,152000] loss:0.025\n[1,154000] loss:0.033\n[1,156000] loss:0.026\n[1,158000] loss:0.024\n[1,160000] loss:0.023\n[1,162000] loss:0.021\n[1,164000] loss:0.024\n[1,166000] loss:0.019\n[1,168000] loss:0.030\n[1,170000] loss:0.034\n[1,172000] loss:0.028\n[1,174000] loss:0.030\n[1,176000] loss:0.027\n[1,178000] loss:0.021\n[1,180000] loss:0.019\n[1,184000] loss:0.054\n[1,186000] loss:0.027\n[1,188000] loss:0.033\n[1,190000] loss:0.024\n[1,192000] loss:0.036\n[1,194000] loss:0.025\n[1,196000] loss:0.024\n[1,198000] loss:0.023\n[1,200000] loss:0.041\n[1,202000] loss:0.025\n[1,204000] loss:0.041\n[1,206000] loss:0.032\n[1,208000] loss:0.027\n[1,210000] loss:0.032\n[1,212000] loss:0.015\n[1,214000] loss:0.022\n[1,216000] loss:0.018\n[1,218000] loss:0.034\n[1,220000] loss:0.027\n[1,222000] loss:0.036\n[1,224000] loss:0.031\n[1,226000] loss:0.033\n[1,228000] loss:0.039\n[1,230000] loss:0.029\n[1,232000] loss:0.037\n[1,234000] loss:0.018\n[1,236000] loss:0.039\n[1,238000] loss:0.020\n[1,240000] loss:0.026\n[1,242000] loss:0.025\n[1,244000] loss:0.033\n[1,246000] loss:0.033\n[1,248000] loss:0.031\n[1,250000] loss:0.027\n[1,252000] loss:0.030\n[1,254000] loss:0.025\n[1,256000] loss:0.026\n[1,258000] loss:0.030\n[1,260000] loss:0.022\n[1,262000] loss:0.027\n[1,264000] loss:0.025\n[1,266000] loss:0.030\n[1,268000] loss:0.026\n[1,270000] loss:0.030\n[1,272000] loss:0.030\n[1,274000] loss:0.023\n[1,276000] loss:0.032\n[1,278000] loss:0.034\n[1,280000] loss:0.028\n[1,282000] loss:0.029\n[1,284000] loss:0.030\n[1,286000] loss:0.032\n[1,288000] loss:0.037\n[1,290000] loss:0.026\n[1,292000] loss:0.039\n[1,294000] loss:0.037\n[1,296000] loss:0.043\n[1,298000] loss:0.017\n[1,300000] loss:0.034\n[1,302000] loss:0.032\n[1,304000] loss:0.035\n[1,306000] loss:0.037\n[1,310000] loss:0.048\n[1,312000] loss:0.027\n[1,316000] loss:0.061\n[1,318000] loss:0.028\n[1,320000] loss:0.022\n[1,322000] loss:0.031\n[1,324000] loss:0.029\n[1,326000] loss:0.029\n[1,328000] loss:0.026\n[1,330000] loss:0.033\n[1,332000] loss:0.035\n[1,334000] loss:0.024\n[1,336000] loss:0.022\n[1,340000] loss:0.069\n[1,342000] loss:0.032\n[1,344000] loss:0.027\n[1,346000] loss:0.029\n[1,348000] loss:0.025\n[1,350000] loss:0.039\n[1,352000] loss:0.032\n[1,354000] loss:0.041\n[1,356000] loss:0.026\n[1,358000] loss:0.031\n[1,360000] loss:0.021\n[1,362000] loss:0.038\n[1,364000] loss:0.024\n[1,366000] loss:0.020\n[1,368000] loss:0.041\n[1,370000] loss:0.027\n[1,372000] loss:0.033\n[1,374000] loss:0.023\n[1,376000] loss:0.032\n[1,378000] loss:0.027\n[1,380000] loss:0.034\n[1,382000] loss:0.027\n[1,384000] loss:0.035\n[1,386000] loss:0.039\n[1,388000] loss:0.019\n[1,390000] loss:0.016\n[1,392000] loss:0.031\n[1,394000] loss:0.032\n[1,396000] loss:0.018\n[1,398000] loss:0.032\n[1,400000] loss:0.024\n[1,402000] loss:0.029\n[1,404000] loss:0.025\n[1,406000] loss:0.035\n[1,408000] loss:0.039\n[1,410000] loss:0.033\n[1,412000] loss:0.027\n[1,414000] loss:0.035\n[1,416000] loss:0.028\n[1,418000] loss:0.028\n[1,420000] loss:0.028\n[1,422000] loss:0.036\n[1,424000] loss:0.040\n[1,426000] loss:0.023\n[1,428000] loss:0.030\n[1,430000] loss:0.028\n[1,432000] loss:0.027\n[1,434000] loss:0.034\n[1,436000] loss:0.033\n[1,438000] loss:0.027\n[1,440000] loss:0.027\n[1,442000] loss:0.034\n[1,444000] loss:0.022\n[1,446000] loss:0.034\n[1,448000] loss:0.031\n[1,450000] loss:0.027\n[1,452000] loss:0.033\n[1,454000] loss:0.033\n[1,456000] loss:0.032\n[1,458000] loss:0.041\n[1,460000] loss:0.035\n[1,462000] loss:0.034\n[1,464000] loss:0.032\n[1,466000] loss:0.036\n[1,468000] loss:0.028\n[1,470000] loss:0.028\n[1,472000] loss:0.037\n[1,474000] loss:0.023\n[1,476000] loss:0.029\n[1,478000] loss:0.031\n[1,480000] loss:0.031\n[1,482000] loss:0.039\n[1,484000] loss:0.032\n[1,486000] loss:0.024\n[1,488000] loss:0.026\n[1,490000] loss:0.028\n[1,492000] loss:0.030\n[1,494000] loss:0.030\n[1,496000] loss:0.029\n[1,498000] loss:0.033\n[1,500000] loss:0.019\n[1,502000] loss:0.031\n[1,504000] loss:0.036\n[1,506000] loss:0.043\n[1,508000] loss:0.036\n[1,510000] loss:0.038\n[1,512000] loss:0.031\n[1,514000] loss:0.024\n[1,516000] loss:0.027\n[1,518000] loss:0.036\n[1,520000] loss:0.034\n[1,522000] loss:0.034\n[1,524000] loss:0.030\n[1,526000] loss:0.031\n[1,528000] loss:0.023\n[1,530000] loss:0.027\n[1,532000] loss:0.026\n[1,534000] loss:0.027\n[1,536000] loss:0.034\n[1,538000] loss:0.023\n[1,540000] loss:0.035\n[1,542000] loss:0.026\n[1,544000] loss:0.020\n[1,546000] loss:0.028\n[1,548000] loss:0.033\n[1,550000] loss:0.026\n[1,554000] loss:0.073\n[1,556000] loss:0.029\n[1,558000] loss:0.021\n[1,560000] loss:0.022\n[1,562000] loss:0.028\n[1,564000] loss:0.023\n[1,566000] loss:0.023\n[1,568000] loss:0.026\n[1,570000] loss:0.037\n[1,572000] loss:0.039\n[1,574000] loss:0.033\n[1,576000] loss:0.026\n[1,578000] loss:0.028\n[1,580000] loss:0.021\n[1,582000] loss:0.030\n[1,584000] loss:0.022\n[1,586000] loss:0.019\n[1,588000] loss:0.032\n[1,590000] loss:0.024\n[1,592000] loss:0.037\n[1,594000] loss:0.026\n[1,596000] loss:0.030\n[1,598000] loss:0.033\n[1,600000] loss:0.022\n[1,602000] loss:0.023\n[1,604000] loss:0.025\n[1,606000] loss:0.024\n[1,608000] loss:0.034\n[1,610000] loss:0.030\n[1,612000] loss:0.034\n[1,614000] loss:0.040\n[1,616000] loss:0.023\n[1,618000] loss:0.036\n[1,620000] loss:0.041\n[1,622000] loss:0.025\n[1,624000] loss:0.016\n[1,626000] loss:0.023\n[1,628000] loss:0.033\n[1,630000] loss:0.024\n[1,632000] loss:0.027\n[1,634000] loss:0.032\n[1,636000] loss:0.031\n[1,638000] loss:0.033\n[1,640000] loss:0.042\n[1,642000] loss:0.030\n[1,644000] loss:0.036\n[1,646000] loss:0.027\n[1,648000] loss:0.037\n[1,650000] loss:0.023\n[1,652000] loss:0.029\n[1,654000] loss:0.023\n[1,656000] loss:0.028\n[1,658000] loss:0.030\n[1,660000] loss:0.026\n[1,662000] loss:0.030\n[1,664000] loss:0.028\n[1,666000] loss:0.031\n[1,668000] loss:0.023\n[1,670000] loss:0.025\n[1,674000] loss:0.044\n[1,676000] loss:0.023\n[1,678000] loss:0.039\n[1,680000] loss:0.033\n[1,682000] loss:0.036\n[1,684000] loss:0.025\n[1,686000] loss:0.032\n"
    },
    {
     "output_type": "error",
     "ename": "KeyboardInterrupt",
     "evalue": "",
     "traceback": [
      "\u001b[0;31m---------------------------------------------------------------------------\u001b[0m",
      "\u001b[0;31mKeyboardInterrupt\u001b[0m                         Traceback (most recent call last)",
      "\u001b[0;32m<ipython-input-14-9bb7a617c19a>\u001b[0m in \u001b[0;36m<module>\u001b[0;34m\u001b[0m\n\u001b[1;32m      3\u001b[0m \u001b[0;32mfor\u001b[0m \u001b[0mepoch\u001b[0m \u001b[0;32min\u001b[0m \u001b[0mrange\u001b[0m\u001b[0;34m(\u001b[0m\u001b[0;36m2\u001b[0m\u001b[0;34m)\u001b[0m\u001b[0;34m:\u001b[0m\u001b[0;34m\u001b[0m\u001b[0;34m\u001b[0m\u001b[0m\n\u001b[1;32m      4\u001b[0m     \u001b[0mrunning_loss\u001b[0m\u001b[0;34m=\u001b[0m\u001b[0;36m0.0\u001b[0m\u001b[0;34m\u001b[0m\u001b[0;34m\u001b[0m\u001b[0m\n\u001b[0;32m----> 5\u001b[0;31m     \u001b[0;32mfor\u001b[0m \u001b[0mi\u001b[0m\u001b[0;34m,\u001b[0m\u001b[0mdata\u001b[0m \u001b[0;32min\u001b[0m \u001b[0menumerate\u001b[0m\u001b[0;34m(\u001b[0m\u001b[0mloader\u001b[0m\u001b[0;34m)\u001b[0m\u001b[0;34m:\u001b[0m\u001b[0;34m\u001b[0m\u001b[0;34m\u001b[0m\u001b[0m\n\u001b[0m\u001b[1;32m      6\u001b[0m         \u001b[0mimg\u001b[0m\u001b[0;34m,\u001b[0m\u001b[0mdet\u001b[0m\u001b[0;34m,\u001b[0m\u001b[0mlabel\u001b[0m\u001b[0;34m=\u001b[0m \u001b[0mdata\u001b[0m\u001b[0;34m\u001b[0m\u001b[0;34m\u001b[0m\u001b[0m\n\u001b[1;32m      7\u001b[0m         \u001b[0mimg\u001b[0m\u001b[0;34m=\u001b[0m\u001b[0mimg\u001b[0m\u001b[0;34m.\u001b[0m\u001b[0mtype\u001b[0m\u001b[0;34m(\u001b[0m\u001b[0mtorch\u001b[0m\u001b[0;34m.\u001b[0m\u001b[0mDoubleTensor\u001b[0m\u001b[0;34m)\u001b[0m\u001b[0;34m\u001b[0m\u001b[0;34m\u001b[0m\u001b[0m\n",
      "\u001b[0;32m~/anaconda3/envs/pyt/lib/python3.7/site-packages/torch/utils/data/dataloader.py\u001b[0m in \u001b[0;36m__next__\u001b[0;34m(self)\u001b[0m\n\u001b[1;32m    343\u001b[0m \u001b[0;34m\u001b[0m\u001b[0m\n\u001b[1;32m    344\u001b[0m     \u001b[0;32mdef\u001b[0m \u001b[0m__next__\u001b[0m\u001b[0;34m(\u001b[0m\u001b[0mself\u001b[0m\u001b[0;34m)\u001b[0m\u001b[0;34m:\u001b[0m\u001b[0;34m\u001b[0m\u001b[0;34m\u001b[0m\u001b[0m\n\u001b[0;32m--> 345\u001b[0;31m         \u001b[0mdata\u001b[0m \u001b[0;34m=\u001b[0m \u001b[0mself\u001b[0m\u001b[0;34m.\u001b[0m\u001b[0m_next_data\u001b[0m\u001b[0;34m(\u001b[0m\u001b[0;34m)\u001b[0m\u001b[0;34m\u001b[0m\u001b[0;34m\u001b[0m\u001b[0m\n\u001b[0m\u001b[1;32m    346\u001b[0m         \u001b[0mself\u001b[0m\u001b[0;34m.\u001b[0m\u001b[0m_num_yielded\u001b[0m \u001b[0;34m+=\u001b[0m \u001b[0;36m1\u001b[0m\u001b[0;34m\u001b[0m\u001b[0;34m\u001b[0m\u001b[0m\n\u001b[1;32m    347\u001b[0m         \u001b[0;32mif\u001b[0m \u001b[0mself\u001b[0m\u001b[0;34m.\u001b[0m\u001b[0m_dataset_kind\u001b[0m \u001b[0;34m==\u001b[0m \u001b[0m_DatasetKind\u001b[0m\u001b[0;34m.\u001b[0m\u001b[0mIterable\u001b[0m \u001b[0;32mand\u001b[0m\u001b[0;31m \u001b[0m\u001b[0;31m\\\u001b[0m\u001b[0;34m\u001b[0m\u001b[0;34m\u001b[0m\u001b[0m\n",
      "\u001b[0;32m~/anaconda3/envs/pyt/lib/python3.7/site-packages/torch/utils/data/dataloader.py\u001b[0m in \u001b[0;36m_next_data\u001b[0;34m(self)\u001b[0m\n\u001b[1;32m    839\u001b[0m \u001b[0;34m\u001b[0m\u001b[0m\n\u001b[1;32m    840\u001b[0m             \u001b[0;32massert\u001b[0m \u001b[0;32mnot\u001b[0m \u001b[0mself\u001b[0m\u001b[0;34m.\u001b[0m\u001b[0m_shutdown\u001b[0m \u001b[0;32mand\u001b[0m \u001b[0mself\u001b[0m\u001b[0;34m.\u001b[0m\u001b[0m_tasks_outstanding\u001b[0m \u001b[0;34m>\u001b[0m \u001b[0;36m0\u001b[0m\u001b[0;34m\u001b[0m\u001b[0;34m\u001b[0m\u001b[0m\n\u001b[0;32m--> 841\u001b[0;31m             \u001b[0midx\u001b[0m\u001b[0;34m,\u001b[0m \u001b[0mdata\u001b[0m \u001b[0;34m=\u001b[0m \u001b[0mself\u001b[0m\u001b[0;34m.\u001b[0m\u001b[0m_get_data\u001b[0m\u001b[0;34m(\u001b[0m\u001b[0;34m)\u001b[0m\u001b[0;34m\u001b[0m\u001b[0;34m\u001b[0m\u001b[0m\n\u001b[0m\u001b[1;32m    842\u001b[0m             \u001b[0mself\u001b[0m\u001b[0;34m.\u001b[0m\u001b[0m_tasks_outstanding\u001b[0m \u001b[0;34m-=\u001b[0m \u001b[0;36m1\u001b[0m\u001b[0;34m\u001b[0m\u001b[0;34m\u001b[0m\u001b[0m\n\u001b[1;32m    843\u001b[0m \u001b[0;34m\u001b[0m\u001b[0m\n",
      "\u001b[0;32m~/anaconda3/envs/pyt/lib/python3.7/site-packages/torch/utils/data/dataloader.py\u001b[0m in \u001b[0;36m_get_data\u001b[0;34m(self)\u001b[0m\n\u001b[1;32m    806\u001b[0m         \u001b[0;32melse\u001b[0m\u001b[0;34m:\u001b[0m\u001b[0;34m\u001b[0m\u001b[0;34m\u001b[0m\u001b[0m\n\u001b[1;32m    807\u001b[0m             \u001b[0;32mwhile\u001b[0m \u001b[0;32mTrue\u001b[0m\u001b[0;34m:\u001b[0m\u001b[0;34m\u001b[0m\u001b[0;34m\u001b[0m\u001b[0m\n\u001b[0;32m--> 808\u001b[0;31m                 \u001b[0msuccess\u001b[0m\u001b[0;34m,\u001b[0m \u001b[0mdata\u001b[0m \u001b[0;34m=\u001b[0m \u001b[0mself\u001b[0m\u001b[0;34m.\u001b[0m\u001b[0m_try_get_data\u001b[0m\u001b[0;34m(\u001b[0m\u001b[0;34m)\u001b[0m\u001b[0;34m\u001b[0m\u001b[0;34m\u001b[0m\u001b[0m\n\u001b[0m\u001b[1;32m    809\u001b[0m                 \u001b[0;32mif\u001b[0m \u001b[0msuccess\u001b[0m\u001b[0;34m:\u001b[0m\u001b[0;34m\u001b[0m\u001b[0;34m\u001b[0m\u001b[0m\n\u001b[1;32m    810\u001b[0m                     \u001b[0;32mreturn\u001b[0m \u001b[0mdata\u001b[0m\u001b[0;34m\u001b[0m\u001b[0;34m\u001b[0m\u001b[0m\n",
      "\u001b[0;32m~/anaconda3/envs/pyt/lib/python3.7/site-packages/torch/utils/data/dataloader.py\u001b[0m in \u001b[0;36m_try_get_data\u001b[0;34m(self, timeout)\u001b[0m\n\u001b[1;32m    759\u001b[0m         \u001b[0;31m#   (bool: whether successfully get data, any: data if successful else None)\u001b[0m\u001b[0;34m\u001b[0m\u001b[0;34m\u001b[0m\u001b[0;34m\u001b[0m\u001b[0m\n\u001b[1;32m    760\u001b[0m         \u001b[0;32mtry\u001b[0m\u001b[0;34m:\u001b[0m\u001b[0;34m\u001b[0m\u001b[0;34m\u001b[0m\u001b[0m\n\u001b[0;32m--> 761\u001b[0;31m             \u001b[0mdata\u001b[0m \u001b[0;34m=\u001b[0m \u001b[0mself\u001b[0m\u001b[0;34m.\u001b[0m\u001b[0m_data_queue\u001b[0m\u001b[0;34m.\u001b[0m\u001b[0mget\u001b[0m\u001b[0;34m(\u001b[0m\u001b[0mtimeout\u001b[0m\u001b[0;34m=\u001b[0m\u001b[0mtimeout\u001b[0m\u001b[0;34m)\u001b[0m\u001b[0;34m\u001b[0m\u001b[0;34m\u001b[0m\u001b[0m\n\u001b[0m\u001b[1;32m    762\u001b[0m             \u001b[0;32mreturn\u001b[0m \u001b[0;34m(\u001b[0m\u001b[0;32mTrue\u001b[0m\u001b[0;34m,\u001b[0m \u001b[0mdata\u001b[0m\u001b[0;34m)\u001b[0m\u001b[0;34m\u001b[0m\u001b[0;34m\u001b[0m\u001b[0m\n\u001b[1;32m    763\u001b[0m         \u001b[0;32mexcept\u001b[0m \u001b[0mException\u001b[0m \u001b[0;32mas\u001b[0m \u001b[0me\u001b[0m\u001b[0;34m:\u001b[0m\u001b[0;34m\u001b[0m\u001b[0;34m\u001b[0m\u001b[0m\n",
      "\u001b[0;32m~/anaconda3/envs/pyt/lib/python3.7/multiprocessing/queues.py\u001b[0m in \u001b[0;36mget\u001b[0;34m(self, block, timeout)\u001b[0m\n\u001b[1;32m    111\u001b[0m                 \u001b[0mself\u001b[0m\u001b[0;34m.\u001b[0m\u001b[0m_rlock\u001b[0m\u001b[0;34m.\u001b[0m\u001b[0mrelease\u001b[0m\u001b[0;34m(\u001b[0m\u001b[0;34m)\u001b[0m\u001b[0;34m\u001b[0m\u001b[0;34m\u001b[0m\u001b[0m\n\u001b[1;32m    112\u001b[0m         \u001b[0;31m# unserialize the data after having released the lock\u001b[0m\u001b[0;34m\u001b[0m\u001b[0;34m\u001b[0m\u001b[0;34m\u001b[0m\u001b[0m\n\u001b[0;32m--> 113\u001b[0;31m         \u001b[0;32mreturn\u001b[0m \u001b[0m_ForkingPickler\u001b[0m\u001b[0;34m.\u001b[0m\u001b[0mloads\u001b[0m\u001b[0;34m(\u001b[0m\u001b[0mres\u001b[0m\u001b[0;34m)\u001b[0m\u001b[0;34m\u001b[0m\u001b[0;34m\u001b[0m\u001b[0m\n\u001b[0m\u001b[1;32m    114\u001b[0m \u001b[0;34m\u001b[0m\u001b[0m\n\u001b[1;32m    115\u001b[0m     \u001b[0;32mdef\u001b[0m \u001b[0mqsize\u001b[0m\u001b[0;34m(\u001b[0m\u001b[0mself\u001b[0m\u001b[0;34m)\u001b[0m\u001b[0;34m:\u001b[0m\u001b[0;34m\u001b[0m\u001b[0;34m\u001b[0m\u001b[0m\n",
      "\u001b[0;32m~/anaconda3/envs/pyt/lib/python3.7/site-packages/torch/multiprocessing/reductions.py\u001b[0m in \u001b[0;36mrebuild_storage_fd\u001b[0;34m(cls, df, size)\u001b[0m\n\u001b[1;32m    292\u001b[0m                     \u001b[0;32mraise\u001b[0m\u001b[0;34m\u001b[0m\u001b[0;34m\u001b[0m\u001b[0m\n\u001b[1;32m    293\u001b[0m     \u001b[0;32melse\u001b[0m\u001b[0;34m:\u001b[0m\u001b[0;34m\u001b[0m\u001b[0;34m\u001b[0m\u001b[0m\n\u001b[0;32m--> 294\u001b[0;31m         \u001b[0mfd\u001b[0m \u001b[0;34m=\u001b[0m \u001b[0mdf\u001b[0m\u001b[0;34m.\u001b[0m\u001b[0mdetach\u001b[0m\u001b[0;34m(\u001b[0m\u001b[0;34m)\u001b[0m\u001b[0;34m\u001b[0m\u001b[0;34m\u001b[0m\u001b[0m\n\u001b[0m\u001b[1;32m    295\u001b[0m     \u001b[0;32mtry\u001b[0m\u001b[0;34m:\u001b[0m\u001b[0;34m\u001b[0m\u001b[0;34m\u001b[0m\u001b[0m\n\u001b[1;32m    296\u001b[0m         \u001b[0mstorage\u001b[0m \u001b[0;34m=\u001b[0m \u001b[0mstorage_from_cache\u001b[0m\u001b[0;34m(\u001b[0m\u001b[0mcls\u001b[0m\u001b[0;34m,\u001b[0m \u001b[0mfd_id\u001b[0m\u001b[0;34m(\u001b[0m\u001b[0mfd\u001b[0m\u001b[0;34m)\u001b[0m\u001b[0;34m)\u001b[0m\u001b[0;34m\u001b[0m\u001b[0;34m\u001b[0m\u001b[0m\n",
      "\u001b[0;32m~/anaconda3/envs/pyt/lib/python3.7/multiprocessing/resource_sharer.py\u001b[0m in \u001b[0;36mdetach\u001b[0;34m(self)\u001b[0m\n\u001b[1;32m     55\u001b[0m         \u001b[0;32mdef\u001b[0m \u001b[0mdetach\u001b[0m\u001b[0;34m(\u001b[0m\u001b[0mself\u001b[0m\u001b[0;34m)\u001b[0m\u001b[0;34m:\u001b[0m\u001b[0;34m\u001b[0m\u001b[0;34m\u001b[0m\u001b[0m\n\u001b[1;32m     56\u001b[0m             \u001b[0;34m'''Get the fd.  This should only be called once.'''\u001b[0m\u001b[0;34m\u001b[0m\u001b[0;34m\u001b[0m\u001b[0m\n\u001b[0;32m---> 57\u001b[0;31m             \u001b[0;32mwith\u001b[0m \u001b[0m_resource_sharer\u001b[0m\u001b[0;34m.\u001b[0m\u001b[0mget_connection\u001b[0m\u001b[0;34m(\u001b[0m\u001b[0mself\u001b[0m\u001b[0;34m.\u001b[0m\u001b[0m_id\u001b[0m\u001b[0;34m)\u001b[0m \u001b[0;32mas\u001b[0m \u001b[0mconn\u001b[0m\u001b[0;34m:\u001b[0m\u001b[0;34m\u001b[0m\u001b[0;34m\u001b[0m\u001b[0m\n\u001b[0m\u001b[1;32m     58\u001b[0m                 \u001b[0;32mreturn\u001b[0m \u001b[0mreduction\u001b[0m\u001b[0;34m.\u001b[0m\u001b[0mrecv_handle\u001b[0m\u001b[0;34m(\u001b[0m\u001b[0mconn\u001b[0m\u001b[0;34m)\u001b[0m\u001b[0;34m\u001b[0m\u001b[0;34m\u001b[0m\u001b[0m\n\u001b[1;32m     59\u001b[0m \u001b[0;34m\u001b[0m\u001b[0m\n",
      "\u001b[0;32m~/anaconda3/envs/pyt/lib/python3.7/multiprocessing/resource_sharer.py\u001b[0m in \u001b[0;36mget_connection\u001b[0;34m(ident)\u001b[0m\n\u001b[1;32m     85\u001b[0m         \u001b[0;32mfrom\u001b[0m \u001b[0;34m.\u001b[0m\u001b[0mconnection\u001b[0m \u001b[0;32mimport\u001b[0m \u001b[0mClient\u001b[0m\u001b[0;34m\u001b[0m\u001b[0;34m\u001b[0m\u001b[0m\n\u001b[1;32m     86\u001b[0m         \u001b[0maddress\u001b[0m\u001b[0;34m,\u001b[0m \u001b[0mkey\u001b[0m \u001b[0;34m=\u001b[0m \u001b[0mident\u001b[0m\u001b[0;34m\u001b[0m\u001b[0;34m\u001b[0m\u001b[0m\n\u001b[0;32m---> 87\u001b[0;31m         \u001b[0mc\u001b[0m \u001b[0;34m=\u001b[0m \u001b[0mClient\u001b[0m\u001b[0;34m(\u001b[0m\u001b[0maddress\u001b[0m\u001b[0;34m,\u001b[0m \u001b[0mauthkey\u001b[0m\u001b[0;34m=\u001b[0m\u001b[0mprocess\u001b[0m\u001b[0;34m.\u001b[0m\u001b[0mcurrent_process\u001b[0m\u001b[0;34m(\u001b[0m\u001b[0;34m)\u001b[0m\u001b[0;34m.\u001b[0m\u001b[0mauthkey\u001b[0m\u001b[0;34m)\u001b[0m\u001b[0;34m\u001b[0m\u001b[0;34m\u001b[0m\u001b[0m\n\u001b[0m\u001b[1;32m     88\u001b[0m         \u001b[0mc\u001b[0m\u001b[0;34m.\u001b[0m\u001b[0msend\u001b[0m\u001b[0;34m(\u001b[0m\u001b[0;34m(\u001b[0m\u001b[0mkey\u001b[0m\u001b[0;34m,\u001b[0m \u001b[0mos\u001b[0m\u001b[0;34m.\u001b[0m\u001b[0mgetpid\u001b[0m\u001b[0;34m(\u001b[0m\u001b[0;34m)\u001b[0m\u001b[0;34m)\u001b[0m\u001b[0;34m)\u001b[0m\u001b[0;34m\u001b[0m\u001b[0;34m\u001b[0m\u001b[0m\n\u001b[1;32m     89\u001b[0m         \u001b[0;32mreturn\u001b[0m \u001b[0mc\u001b[0m\u001b[0;34m\u001b[0m\u001b[0;34m\u001b[0m\u001b[0m\n",
      "\u001b[0;32m~/anaconda3/envs/pyt/lib/python3.7/multiprocessing/connection.py\u001b[0m in \u001b[0;36mClient\u001b[0;34m(address, family, authkey)\u001b[0m\n\u001b[1;32m    496\u001b[0m \u001b[0;34m\u001b[0m\u001b[0m\n\u001b[1;32m    497\u001b[0m     \u001b[0;32mif\u001b[0m \u001b[0mauthkey\u001b[0m \u001b[0;32mis\u001b[0m \u001b[0;32mnot\u001b[0m \u001b[0;32mNone\u001b[0m\u001b[0;34m:\u001b[0m\u001b[0;34m\u001b[0m\u001b[0;34m\u001b[0m\u001b[0m\n\u001b[0;32m--> 498\u001b[0;31m         \u001b[0manswer_challenge\u001b[0m\u001b[0;34m(\u001b[0m\u001b[0mc\u001b[0m\u001b[0;34m,\u001b[0m \u001b[0mauthkey\u001b[0m\u001b[0;34m)\u001b[0m\u001b[0;34m\u001b[0m\u001b[0;34m\u001b[0m\u001b[0m\n\u001b[0m\u001b[1;32m    499\u001b[0m         \u001b[0mdeliver_challenge\u001b[0m\u001b[0;34m(\u001b[0m\u001b[0mc\u001b[0m\u001b[0;34m,\u001b[0m \u001b[0mauthkey\u001b[0m\u001b[0;34m)\u001b[0m\u001b[0;34m\u001b[0m\u001b[0;34m\u001b[0m\u001b[0m\n\u001b[1;32m    500\u001b[0m \u001b[0;34m\u001b[0m\u001b[0m\n",
      "\u001b[0;32m~/anaconda3/envs/pyt/lib/python3.7/multiprocessing/connection.py\u001b[0m in \u001b[0;36manswer_challenge\u001b[0;34m(connection, authkey)\u001b[0m\n\u001b[1;32m    739\u001b[0m         raise ValueError(\n\u001b[1;32m    740\u001b[0m             \"Authkey must be bytes, not {0!s}\".format(type(authkey)))\n\u001b[0;32m--> 741\u001b[0;31m     \u001b[0mmessage\u001b[0m \u001b[0;34m=\u001b[0m \u001b[0mconnection\u001b[0m\u001b[0;34m.\u001b[0m\u001b[0mrecv_bytes\u001b[0m\u001b[0;34m(\u001b[0m\u001b[0;36m256\u001b[0m\u001b[0;34m)\u001b[0m         \u001b[0;31m# reject large message\u001b[0m\u001b[0;34m\u001b[0m\u001b[0;34m\u001b[0m\u001b[0m\n\u001b[0m\u001b[1;32m    742\u001b[0m     \u001b[0;32massert\u001b[0m \u001b[0mmessage\u001b[0m\u001b[0;34m[\u001b[0m\u001b[0;34m:\u001b[0m\u001b[0mlen\u001b[0m\u001b[0;34m(\u001b[0m\u001b[0mCHALLENGE\u001b[0m\u001b[0;34m)\u001b[0m\u001b[0;34m]\u001b[0m \u001b[0;34m==\u001b[0m \u001b[0mCHALLENGE\u001b[0m\u001b[0;34m,\u001b[0m \u001b[0;34m'message = %r'\u001b[0m \u001b[0;34m%\u001b[0m \u001b[0mmessage\u001b[0m\u001b[0;34m\u001b[0m\u001b[0;34m\u001b[0m\u001b[0m\n\u001b[1;32m    743\u001b[0m     \u001b[0mmessage\u001b[0m \u001b[0;34m=\u001b[0m \u001b[0mmessage\u001b[0m\u001b[0;34m[\u001b[0m\u001b[0mlen\u001b[0m\u001b[0;34m(\u001b[0m\u001b[0mCHALLENGE\u001b[0m\u001b[0;34m)\u001b[0m\u001b[0;34m:\u001b[0m\u001b[0;34m]\u001b[0m\u001b[0;34m\u001b[0m\u001b[0;34m\u001b[0m\u001b[0m\n",
      "\u001b[0;32m~/anaconda3/envs/pyt/lib/python3.7/multiprocessing/connection.py\u001b[0m in \u001b[0;36mrecv_bytes\u001b[0;34m(self, maxlength)\u001b[0m\n\u001b[1;32m    210\u001b[0m         \u001b[0mReceive\u001b[0m \u001b[0mbytes\u001b[0m \u001b[0mdata\u001b[0m \u001b[0;32mas\u001b[0m \u001b[0ma\u001b[0m \u001b[0mbytes\u001b[0m \u001b[0mobject\u001b[0m\u001b[0;34m.\u001b[0m\u001b[0;34m\u001b[0m\u001b[0;34m\u001b[0m\u001b[0m\n\u001b[1;32m    211\u001b[0m         \"\"\"\n\u001b[0;32m--> 212\u001b[0;31m         \u001b[0mself\u001b[0m\u001b[0;34m.\u001b[0m\u001b[0m_check_closed\u001b[0m\u001b[0;34m(\u001b[0m\u001b[0;34m)\u001b[0m\u001b[0;34m\u001b[0m\u001b[0;34m\u001b[0m\u001b[0m\n\u001b[0m\u001b[1;32m    213\u001b[0m         \u001b[0mself\u001b[0m\u001b[0;34m.\u001b[0m\u001b[0m_check_readable\u001b[0m\u001b[0;34m(\u001b[0m\u001b[0;34m)\u001b[0m\u001b[0;34m\u001b[0m\u001b[0;34m\u001b[0m\u001b[0m\n\u001b[1;32m    214\u001b[0m         \u001b[0;32mif\u001b[0m \u001b[0mmaxlength\u001b[0m \u001b[0;32mis\u001b[0m \u001b[0;32mnot\u001b[0m \u001b[0;32mNone\u001b[0m \u001b[0;32mand\u001b[0m \u001b[0mmaxlength\u001b[0m \u001b[0;34m<\u001b[0m \u001b[0;36m0\u001b[0m\u001b[0;34m:\u001b[0m\u001b[0;34m\u001b[0m\u001b[0;34m\u001b[0m\u001b[0m\n",
      "\u001b[0;31mKeyboardInterrupt\u001b[0m: "
     ]
    }
   ],
   "source": [
    "beta1=[1,1,0]\n",
    "beta2=[0,1,1]\n",
    "for epoch in range(2):\n",
    "    running_loss=0.0\n",
    "    for i,data in enumerate(loader):\n",
    "        img,det,label= data\n",
    "        img=img.type(torch.DoubleTensor)\n",
    "        img,det,label = img.to(device),det.to(device),label.to(device)\n",
    "        optimizer.zero_grad()\n",
    "        outputs1,outputs2,_=net(img)\n",
    "        outputs1.squeeze_(3),outputs2.squeeze_(3)\n",
    "        outputs1.squeeze_(2),outputs2.squeeze_(2)\n",
    "        det.squeeze_(1)\n",
    "        if det==2:\n",
    "            loss=criterion2(outputs2,label)*0.5\n",
    "        elif det==0:\n",
    "            loss=criterion1(outputs1,det)\n",
    "        elif det==1:\n",
    "            loss=criterion1(outputs1,det)+criterion2(outputs2,label)*0.5\n",
    "        if loss.item()>5:\n",
    "            continue\n",
    "        loss=loss.type(torch.DoubleTensor)\n",
    "        #loss=torch.DoubleTensor(loss)\n",
    "        loss.backward()\n",
    "        optimizer.step()\n",
    "        running_loss+=loss.item()\n",
    "        if i%2000==1999:\n",
    "            print('[%d,%5d] loss:%.3f' %(epoch+1,i+1,running_loss/2000))\n",
    "            running_loss=0.0\n",
    "print('training finished')"
   ]
  },
  {
   "cell_type": "code",
   "execution_count": 15,
   "metadata": {},
   "outputs": [],
   "source": [
    "torch.save(net.state_dict(),'./pretrained_model/new_PNet7.pth')"
   ]
  },
  {
   "cell_type": "code",
   "execution_count": 15,
   "metadata": {},
   "outputs": [
    {
     "output_type": "execute_result",
     "data": {
      "text/plain": "tensor(4.9724, device='cuda:0', dtype=torch.float64, grad_fn=<MulBackward0>)"
     },
     "metadata": {},
     "execution_count": 15
    }
   ],
   "source": [
    "loss2"
   ]
  },
  {
   "cell_type": "code",
   "execution_count": 8,
   "metadata": {},
   "outputs": [
    {
     "output_type": "execute_result",
     "data": {
      "text/plain": "tensor(4.9724, device='cuda:0', dtype=torch.float64, grad_fn=<AddBackward0>)"
     },
     "metadata": {},
     "execution_count": 8
    }
   ],
   "source": [
    "loss.type(torch.double)"
   ]
  },
  {
   "cell_type": "code",
   "execution_count": 18,
   "metadata": {},
   "outputs": [],
   "source": [
    "a=torch.tensor([2.,3.])"
   ]
  },
  {
   "cell_type": "code",
   "execution_count": 20,
   "metadata": {},
   "outputs": [
    {
     "output_type": "execute_result",
     "data": {
      "text/plain": "torch.float32"
     },
     "metadata": {},
     "execution_count": 20
    }
   ],
   "source": [
    "a.dtype"
   ]
  },
  {
   "cell_type": "code",
   "execution_count": 21,
   "metadata": {},
   "outputs": [
    {
     "output_type": "execute_result",
     "data": {
      "text/plain": "tensor([2., 3.], dtype=torch.float64)"
     },
     "metadata": {},
     "execution_count": 21
    }
   ],
   "source": [
    "a.type(torch.DoubleTensor)"
   ]
  },
  {
   "cell_type": "code",
   "execution_count": 12,
   "metadata": {},
   "outputs": [],
   "source": [
    "stride=2\n",
    "scale=1\n",
    "k=1\n",
    "cellsize=12\n",
    "offset=numpy.array([\n",
    "        [[stride*i/scale**k for i in range(5)] for _ in range(6)],\n",
    "        [[stride*j/scale**k for _ in range(5)] for j in range(6)],\n",
    "        [[(stride*i+cellsize)/scale**k for i in range(5)] for _ in range(6)],\n",
    "        [[(stride*j+cellsize)/scale**k for _ in range(5)] for j in range(6)]\n",
    "        ])"
   ]
  },
  {
   "cell_type": "code",
   "execution_count": 15,
   "metadata": {},
   "outputs": [
    {
     "output_type": "execute_result",
     "data": {
      "text/plain": "array([[[0. , 0.8, 1.6, 2.4, 3.2],\n        [0. , 0.8, 1.6, 2.4, 3.2],\n        [0. , 0.8, 1.6, 2.4, 3.2],\n        [0. , 0.8, 1.6, 2.4, 3.2],\n        [0. , 0.8, 1.6, 2.4, 3.2],\n        [0. , 0.8, 1.6, 2.4, 3.2]],\n\n       [[0. , 0. , 0. , 0. , 0. ],\n        [0.8, 0.8, 0.8, 0.8, 0.8],\n        [1.6, 1.6, 1.6, 1.6, 1.6],\n        [2.4, 2.4, 2.4, 2.4, 2.4],\n        [3.2, 3.2, 3.2, 3.2, 3.2],\n        [4. , 4. , 4. , 4. , 4. ]],\n\n       [[4.8, 5.6, 6.4, 7.2, 8. ],\n        [4.8, 5.6, 6.4, 7.2, 8. ],\n        [4.8, 5.6, 6.4, 7.2, 8. ],\n        [4.8, 5.6, 6.4, 7.2, 8. ],\n        [4.8, 5.6, 6.4, 7.2, 8. ],\n        [4.8, 5.6, 6.4, 7.2, 8. ]],\n\n       [[4.8, 4.8, 4.8, 4.8, 4.8],\n        [5.6, 5.6, 5.6, 5.6, 5.6],\n        [6.4, 6.4, 6.4, 6.4, 6.4],\n        [7.2, 7.2, 7.2, 7.2, 7.2],\n        [8. , 8. , 8. , 8. , 8. ],\n        [8.8, 8.8, 8.8, 8.8, 8.8]]])"
     },
     "metadata": {},
     "execution_count": 15
    }
   ],
   "source": [
    "offset*2/5"
   ]
  },
  {
   "cell_type": "code",
   "execution_count": 18,
   "metadata": {},
   "outputs": [
    {
     "output_type": "execute_result",
     "data": {
      "text/plain": "array([1.6, 3.2, 5.1, 4.8])"
     },
     "metadata": {},
     "execution_count": 18
    }
   ],
   "source": [
    "numpy.array([3,4,3,4])*numpy.array([0.2,0.3,0.7,0.2])+[1,2,3,4]"
   ]
  },
  {
   "cell_type": "code",
   "execution_count": null,
   "metadata": {},
   "outputs": [],
   "source": []
  }
 ]
}